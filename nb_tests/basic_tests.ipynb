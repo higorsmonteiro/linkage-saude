{
 "cells": [
  {
   "cell_type": "code",
   "execution_count": 1,
   "metadata": {},
   "outputs": [],
   "source": [
    "import os\n",
    "import sys\n",
    "sys.path.append(\"..\") # --> fix this necessity\n",
    "\n",
    "import pandera\n",
    "import numpy as np\n",
    "import pandas as pd\n",
    "import datetime as dt\n",
    "\n",
    "from src.DataBase import *"
   ]
  },
  {
   "cell_type": "code",
   "execution_count": 3,
   "metadata": {},
   "outputs": [],
   "source": [
    "path_base = os.path.join(os.environ[\"HOMEPATH\"], \"Documents\", \"data\")\n",
    "cevepi_base = os.path.join(path_base, \"CEVEPI_BUNDLE_TESTES\")\n",
    "#path_base_1 = os.path.join(\"..\", \"..\", \"..\", \"data\", \"AGRAVOS\")\n",
    "#path_data_1 = os.path.join(path_base, \"MENINGITE\")\n",
    "#path_data_2 = os.path.join(path_base, \"SIF\")\n",
    "\n",
    "fname_0 = \"GAL_EXEMPLO.csv\"\n",
    "#fname_1 = \"MENINNET-04.10.22.DBF\"\n",
    "#fname_2 = \"SIFADQNET.xlsx\""
   ]
  },
  {
   "cell_type": "code",
   "execution_count": 4,
   "metadata": {},
   "outputs": [
    {
     "data": {
      "text/html": [
       "<div>\n",
       "<style scoped>\n",
       "    .dataframe tbody tr th:only-of-type {\n",
       "        vertical-align: middle;\n",
       "    }\n",
       "\n",
       "    .dataframe tbody tr th {\n",
       "        vertical-align: top;\n",
       "    }\n",
       "\n",
       "    .dataframe thead th {\n",
       "        text-align: right;\n",
       "    }\n",
       "</style>\n",
       "<table border=\"1\" class=\"dataframe\">\n",
       "  <thead>\n",
       "    <tr style=\"text-align: right;\">\n",
       "      <th></th>\n",
       "      <th>Requisição</th>\n",
       "      <th>Requisição Correlativo (S/N)</th>\n",
       "      <th>Regional de Cadastro</th>\n",
       "      <th>Laboratório de Cadastro</th>\n",
       "      <th>CNES Laboratório de Cadastro</th>\n",
       "      <th>Unidade Solicitante</th>\n",
       "      <th>CNES Unidade Solicitante</th>\n",
       "      <th>Municipio do Solicitante</th>\n",
       "      <th>IBGE Município Solicitante</th>\n",
       "      <th>Estado do Solicitante</th>\n",
       "      <th>...</th>\n",
       "      <th>Status Exame</th>\n",
       "      <th>Laboratório Externo</th>\n",
       "      <th>CNES Laboratório Externo</th>\n",
       "      <th>1º Campo Resultado</th>\n",
       "      <th>2º Campo Resultado</th>\n",
       "      <th>3º Campo Resultado</th>\n",
       "      <th>4º Campo Resultado</th>\n",
       "      <th>5º Campo Resultado</th>\n",
       "      <th>6º Campo Resultado</th>\n",
       "      <th>Observações do Resultado</th>\n",
       "    </tr>\n",
       "  </thead>\n",
       "  <tbody>\n",
       "    <tr>\n",
       "      <th>1480</th>\n",
       "      <td>220146010317</td>\n",
       "      <td>N</td>\n",
       "      <td>1</td>\n",
       "      <td>HOSPITAL GERAL DR WALDEMAR ALCANTARA</td>\n",
       "      <td>2785900</td>\n",
       "      <td>HOSPITAL GERAL DR WALDEMAR ALCANTARA</td>\n",
       "      <td>2785900</td>\n",
       "      <td>FORTALEZA</td>\n",
       "      <td>230440</td>\n",
       "      <td>CE</td>\n",
       "      <td>...</td>\n",
       "      <td>Resultado Liberado</td>\n",
       "      <td>FIOCRUZ CEARA</td>\n",
       "      <td>227455.0</td>\n",
       "      <td>Resultado: Não Detectável</td>\n",
       "      <td>NaN</td>\n",
       "      <td>CT:</td>\n",
       "      <td>NaN</td>\n",
       "      <td>NaN</td>\n",
       "      <td>NaN</td>\n",
       "      <td>NaN</td>\n",
       "    </tr>\n",
       "    <tr>\n",
       "      <th>1978</th>\n",
       "      <td>220179001461</td>\n",
       "      <td>N</td>\n",
       "      <td>1</td>\n",
       "      <td>UPA UNIDADE DE PRONTO ATENDIMENTO BOM JARDIM</td>\n",
       "      <td>7993218</td>\n",
       "      <td>UPA UNIDADE DE PRONTO ATENDIMENTO BOM JARDIM</td>\n",
       "      <td>7993218</td>\n",
       "      <td>FORTALEZA</td>\n",
       "      <td>230440</td>\n",
       "      <td>CE</td>\n",
       "      <td>...</td>\n",
       "      <td>Resultado Liberado</td>\n",
       "      <td>NaN</td>\n",
       "      <td>NaN</td>\n",
       "      <td>Resultado: Não Detectável</td>\n",
       "      <td>NaN</td>\n",
       "      <td>CT:</td>\n",
       "      <td>NaN</td>\n",
       "      <td>NaN</td>\n",
       "      <td>NaN</td>\n",
       "      <td>Este resultado se refere a amostra analisada.</td>\n",
       "    </tr>\n",
       "    <tr>\n",
       "      <th>791</th>\n",
       "      <td>220106002505</td>\n",
       "      <td>N</td>\n",
       "      <td>1</td>\n",
       "      <td>Hospital Geral Dr. Cesar Cals (Fortaleza)</td>\n",
       "      <td>2499363</td>\n",
       "      <td>HGCC HOSPITAL GERAL DR CESAR CALS</td>\n",
       "      <td>2499363</td>\n",
       "      <td>FORTALEZA</td>\n",
       "      <td>230440</td>\n",
       "      <td>CE</td>\n",
       "      <td>...</td>\n",
       "      <td>Resultado Liberado</td>\n",
       "      <td>NaN</td>\n",
       "      <td>NaN</td>\n",
       "      <td>Resultado: Não Detectável</td>\n",
       "      <td>NaN</td>\n",
       "      <td>CT:</td>\n",
       "      <td>NaN</td>\n",
       "      <td>NaN</td>\n",
       "      <td>NaN</td>\n",
       "      <td>Este resultado se refere a amostra analisada.</td>\n",
       "    </tr>\n",
       "    <tr>\n",
       "      <th>615</th>\n",
       "      <td>221511000737</td>\n",
       "      <td>N</td>\n",
       "      <td>15</td>\n",
       "      <td>Maternidade Quiteria de Lima (quiterianopolis)</td>\n",
       "      <td>2480050</td>\n",
       "      <td>SECRETARIA MUNICIPAL DE SAUDE QUITERIANOPOLIS</td>\n",
       "      <td>2480395</td>\n",
       "      <td>QUITERIANOPOLIS</td>\n",
       "      <td>231126</td>\n",
       "      <td>CE</td>\n",
       "      <td>...</td>\n",
       "      <td>Resultado Liberado</td>\n",
       "      <td>NaN</td>\n",
       "      <td>NaN</td>\n",
       "      <td>Resultado: 7.885 U/L</td>\n",
       "      <td>Conclusão:</td>\n",
       "      <td>NaN</td>\n",
       "      <td>NaN</td>\n",
       "      <td>NaN</td>\n",
       "      <td>NaN</td>\n",
       "      <td>Este resultado se refere a amostra analisada.</td>\n",
       "    </tr>\n",
       "  </tbody>\n",
       "</table>\n",
       "<p>4 rows × 99 columns</p>\n",
       "</div>"
      ],
      "text/plain": [
       "        Requisição Requisição Correlativo (S/N) Regional de Cadastro  \\\n",
       "1480  220146010317                            N                    1   \n",
       "1978  220179001461                            N                    1   \n",
       "791   220106002505                            N                    1   \n",
       "615   221511000737                            N                   15   \n",
       "\n",
       "                             Laboratório de Cadastro  \\\n",
       "1480            HOSPITAL GERAL DR WALDEMAR ALCANTARA   \n",
       "1978    UPA UNIDADE DE PRONTO ATENDIMENTO BOM JARDIM   \n",
       "791        Hospital Geral Dr. Cesar Cals (Fortaleza)   \n",
       "615   Maternidade Quiteria de Lima (quiterianopolis)   \n",
       "\n",
       "     CNES Laboratório de Cadastro  \\\n",
       "1480                      2785900   \n",
       "1978                      7993218   \n",
       "791                       2499363   \n",
       "615                       2480050   \n",
       "\n",
       "                                Unidade Solicitante CNES Unidade Solicitante  \\\n",
       "1480           HOSPITAL GERAL DR WALDEMAR ALCANTARA                  2785900   \n",
       "1978   UPA UNIDADE DE PRONTO ATENDIMENTO BOM JARDIM                  7993218   \n",
       "791               HGCC HOSPITAL GERAL DR CESAR CALS                  2499363   \n",
       "615   SECRETARIA MUNICIPAL DE SAUDE QUITERIANOPOLIS                  2480395   \n",
       "\n",
       "     Municipio do Solicitante IBGE Município Solicitante  \\\n",
       "1480                FORTALEZA                     230440   \n",
       "1978                FORTALEZA                     230440   \n",
       "791                 FORTALEZA                     230440   \n",
       "615           QUITERIANOPOLIS                     231126   \n",
       "\n",
       "     Estado do Solicitante  ...        Status Exame Laboratório Externo  \\\n",
       "1480                    CE  ...  Resultado Liberado       FIOCRUZ CEARA   \n",
       "1978                    CE  ...  Resultado Liberado                 NaN   \n",
       "791                     CE  ...  Resultado Liberado                 NaN   \n",
       "615                     CE  ...  Resultado Liberado                 NaN   \n",
       "\n",
       "     CNES Laboratório Externo         1º Campo Resultado 2º Campo Resultado  \\\n",
       "1480                 227455.0  Resultado: Não Detectável                NaN   \n",
       "1978                      NaN  Resultado: Não Detectável                NaN   \n",
       "791                       NaN  Resultado: Não Detectável                NaN   \n",
       "615                       NaN       Resultado: 7.885 U/L         Conclusão:   \n",
       "\n",
       "     3º Campo Resultado 4º Campo Resultado 5º Campo Resultado  \\\n",
       "1480                CT:                NaN                NaN   \n",
       "1978                CT:                NaN                NaN   \n",
       "791                 CT:                NaN                NaN   \n",
       "615                 NaN                NaN                NaN   \n",
       "\n",
       "     6º Campo Resultado                       Observações do Resultado  \n",
       "1480                NaN                                            NaN  \n",
       "1978                NaN  Este resultado se refere a amostra analisada.  \n",
       "791                 NaN  Este resultado se refere a amostra analisada.  \n",
       "615                 NaN  Este resultado se refere a amostra analisada.  \n",
       "\n",
       "[4 rows x 99 columns]"
      ]
     },
     "execution_count": 4,
     "metadata": {},
     "output_type": "execute_result"
    }
   ],
   "source": [
    "gal_df = pd.read_csv(os.path.join(cevepi_base, fname_0), encoding=\"latin\", delimiter=\";\", index_col=0, dtype=object)\n",
    "gal_df.sample(n=4)"
   ]
  },
  {
   "cell_type": "code",
   "execution_count": 9,
   "metadata": {},
   "outputs": [
    {
     "data": {
      "text/plain": [
       "['CNS do Profissional de Saúde',\n",
       " 'Núm. Notificação Gal',\n",
       " 'Agravo Gal',\n",
       " 'CID Agravo Gal',\n",
       " 'Data Notificação Gal',\n",
       " 'Unidade Notificação Gal',\n",
       " 'CNES Unidade Notificação Gal',\n",
       " 'Município Notificação Gal',\n",
       " 'IBGE Município Notificação Gal',\n",
       " 'Etnia']"
      ]
     },
     "execution_count": 9,
     "metadata": {},
     "output_type": "execute_result"
    }
   ],
   "source": [
    "GAL = DataGal(gal_df)\n",
    "GAL.empty_columns"
   ]
  },
  {
   "cell_type": "code",
   "execution_count": 6,
   "metadata": {},
   "outputs": [],
   "source": [
    "GAL.validate_schema()"
   ]
  },
  {
   "cell_type": "code",
   "execution_count": 7,
   "metadata": {},
   "outputs": [],
   "source": [
    "GAL.create_id()"
   ]
  },
  {
   "cell_type": "code",
   "execution_count": null,
   "metadata": {},
   "outputs": [],
   "source": []
  },
  {
   "cell_type": "code",
   "execution_count": null,
   "metadata": {},
   "outputs": [],
   "source": []
  },
  {
   "cell_type": "code",
   "execution_count": 16,
   "metadata": {},
   "outputs": [],
   "source": [
    "men_df = Dbf5(os.path.join(path_data_1, fname_1), codec=\"latin\").to_dataframe()\n",
    "MENING = DataSinan(men_df)"
   ]
  },
  {
   "cell_type": "code",
   "execution_count": 17,
   "metadata": {},
   "outputs": [],
   "source": [
    "sifa_df = pd.read_excel(os.path.join(path_data_2, fname_2), dtype=object)\n",
    "SIFADQ = DataSinan(sifa_df)"
   ]
  },
  {
   "cell_type": "code",
   "execution_count": 18,
   "metadata": {},
   "outputs": [
    {
     "data": {
      "text/plain": [
       "['ID_REGIONA',\n",
       " 'ID_RG_RESI',\n",
       " 'ID_LOGRADO',\n",
       " 'END_CONTAT',\n",
       " 'DT_TRANSRM',\n",
       " 'DT_TRANSRS',\n",
       " 'NU_LOTE_V',\n",
       " 'NU_LOTE_H',\n",
       " 'CS_FLXRET',\n",
       " 'FLXRECEBI',\n",
       " 'MIGRADO_W',\n",
       " 'ANT_NOMECO']"
      ]
     },
     "execution_count": 18,
     "metadata": {},
     "output_type": "execute_result"
    }
   ],
   "source": [
    "MENING.empty_columns"
   ]
  },
  {
   "cell_type": "code",
   "execution_count": 19,
   "metadata": {},
   "outputs": [
    {
     "name": "stdout",
     "output_type": "stream",
     "text": [
      "(\"expected series 'NU_IDADE_N' to have type object, got int64\",)\n",
      "Basic validation complete.\n"
     ]
    }
   ],
   "source": [
    "MENING.validate_schema()"
   ]
  },
  {
   "cell_type": "code",
   "execution_count": 20,
   "metadata": {},
   "outputs": [
    {
     "data": {
      "text/plain": [
       "['CS_SUSPEIT',\n",
       " 'IN_AIDS',\n",
       " 'CS_MENING',\n",
       " 'ID_REGIONA',\n",
       " 'ID_RG_RESI',\n",
       " 'ID_LOGRADO',\n",
       " 'ID_GEO1',\n",
       " 'ID_GEO2',\n",
       " 'IN_VINCULA',\n",
       " 'ID_OCUPA_N',\n",
       " 'CODISINF',\n",
       " 'DT_TRANSSE',\n",
       " 'NU_LOTE_H',\n",
       " 'MIGRADO_W',\n",
       " 'CO_USUCAD',\n",
       " 'CO_USUALT',\n",
       " 'TP_SISTEMA',\n",
       " 'NU_ESFERAS',\n",
       " 'ID_NATU_JU',\n",
       " 'ID_VINCULO']"
      ]
     },
     "execution_count": 20,
     "metadata": {},
     "output_type": "execute_result"
    }
   ],
   "source": [
    "SIFADQ.empty_columns"
   ]
  },
  {
   "cell_type": "code",
   "execution_count": 21,
   "metadata": {},
   "outputs": [
    {
     "name": "stdout",
     "output_type": "stream",
     "text": [
      "Basic validation complete.\n"
     ]
    }
   ],
   "source": [
    "SIFADQ.validate_schema()"
   ]
  },
  {
   "cell_type": "code",
   "execution_count": 9,
   "metadata": {},
   "outputs": [
    {
     "data": {
      "text/html": [
       "<div>\n",
       "<style scoped>\n",
       "    .dataframe tbody tr th:only-of-type {\n",
       "        vertical-align: middle;\n",
       "    }\n",
       "\n",
       "    .dataframe tbody tr th {\n",
       "        vertical-align: top;\n",
       "    }\n",
       "\n",
       "    .dataframe thead th {\n",
       "        text-align: right;\n",
       "    }\n",
       "</style>\n",
       "<table border=\"1\" class=\"dataframe\">\n",
       "  <thead>\n",
       "    <tr style=\"text-align: right;\">\n",
       "      <th></th>\n",
       "      <th>NU_NOTIFIC</th>\n",
       "      <th>TP_NOT</th>\n",
       "      <th>ID_AGRAVO</th>\n",
       "      <th>CS_SUSPEIT</th>\n",
       "      <th>IN_AIDS</th>\n",
       "      <th>CS_MENING</th>\n",
       "      <th>DT_NOTIFIC</th>\n",
       "      <th>SEM_NOT</th>\n",
       "      <th>NU_ANO</th>\n",
       "      <th>SG_UF_NOT</th>\n",
       "      <th>...</th>\n",
       "      <th>ID_DIGIT</th>\n",
       "      <th>ID_FAX</th>\n",
       "      <th>ID_EMAIL</th>\n",
       "      <th>NU_UNID</th>\n",
       "      <th>NU_ESFERAS</th>\n",
       "      <th>ID_NATU_JU</th>\n",
       "      <th>ID_VINCULO</th>\n",
       "      <th>ID_UNID_AT</th>\n",
       "      <th>NU_TIPO_SA</th>\n",
       "      <th>TAMANHO</th>\n",
       "    </tr>\n",
       "  </thead>\n",
       "  <tbody>\n",
       "    <tr>\n",
       "      <th>0</th>\n",
       "      <td>1847430</td>\n",
       "      <td>2</td>\n",
       "      <td>A539</td>\n",
       "      <td>NaN</td>\n",
       "      <td>NaN</td>\n",
       "      <td>NaN</td>\n",
       "      <td>2018-03-27</td>\n",
       "      <td>201813</td>\n",
       "      <td>2018</td>\n",
       "      <td>43</td>\n",
       "      <td>...</td>\n",
       "      <td>N</td>\n",
       "      <td>(51)32148585</td>\n",
       "      <td>provedoria@santacasa.tche.br</td>\n",
       "      <td>05</td>\n",
       "      <td>NaN</td>\n",
       "      <td>NaN</td>\n",
       "      <td>NaN</td>\n",
       "      <td>2237253</td>\n",
       "      <td>5</td>\n",
       "      <td>7</td>\n",
       "    </tr>\n",
       "    <tr>\n",
       "      <th>1</th>\n",
       "      <td>0099997</td>\n",
       "      <td>2</td>\n",
       "      <td>A539</td>\n",
       "      <td>NaN</td>\n",
       "      <td>NaN</td>\n",
       "      <td>NaN</td>\n",
       "      <td>2020-09-14</td>\n",
       "      <td>202038</td>\n",
       "      <td>2020</td>\n",
       "      <td>23</td>\n",
       "      <td>...</td>\n",
       "      <td>N</td>\n",
       "      <td>NaN</td>\n",
       "      <td>NaN</td>\n",
       "      <td>02</td>\n",
       "      <td>NaN</td>\n",
       "      <td>NaN</td>\n",
       "      <td>NaN</td>\n",
       "      <td>2372134</td>\n",
       "      <td>5</td>\n",
       "      <td>7</td>\n",
       "    </tr>\n",
       "    <tr>\n",
       "      <th>2</th>\n",
       "      <td>0106186</td>\n",
       "      <td>2</td>\n",
       "      <td>A539</td>\n",
       "      <td>NaN</td>\n",
       "      <td>NaN</td>\n",
       "      <td>NaN</td>\n",
       "      <td>2020-06-09</td>\n",
       "      <td>202024</td>\n",
       "      <td>2020</td>\n",
       "      <td>23</td>\n",
       "      <td>...</td>\n",
       "      <td>N</td>\n",
       "      <td>NaN</td>\n",
       "      <td>NaN</td>\n",
       "      <td>02</td>\n",
       "      <td>NaN</td>\n",
       "      <td>NaN</td>\n",
       "      <td>NaN</td>\n",
       "      <td>2372134</td>\n",
       "      <td>5</td>\n",
       "      <td>7</td>\n",
       "    </tr>\n",
       "    <tr>\n",
       "      <th>3</th>\n",
       "      <td>2014787</td>\n",
       "      <td>2</td>\n",
       "      <td>A539</td>\n",
       "      <td>NaN</td>\n",
       "      <td>NaN</td>\n",
       "      <td>NaN</td>\n",
       "      <td>2014-08-25</td>\n",
       "      <td>201435</td>\n",
       "      <td>2014</td>\n",
       "      <td>23</td>\n",
       "      <td>...</td>\n",
       "      <td>N</td>\n",
       "      <td>8533452309</td>\n",
       "      <td>NaN</td>\n",
       "      <td>05</td>\n",
       "      <td>NaN</td>\n",
       "      <td>NaN</td>\n",
       "      <td>NaN</td>\n",
       "      <td>2373270</td>\n",
       "      <td>5</td>\n",
       "      <td>7</td>\n",
       "    </tr>\n",
       "    <tr>\n",
       "      <th>4</th>\n",
       "      <td>0021756</td>\n",
       "      <td>2</td>\n",
       "      <td>A539</td>\n",
       "      <td>NaN</td>\n",
       "      <td>NaN</td>\n",
       "      <td>NaN</td>\n",
       "      <td>2021-08-04</td>\n",
       "      <td>202131</td>\n",
       "      <td>2021</td>\n",
       "      <td>23</td>\n",
       "      <td>...</td>\n",
       "      <td>N</td>\n",
       "      <td>8533452309</td>\n",
       "      <td>NaN</td>\n",
       "      <td>05</td>\n",
       "      <td>NaN</td>\n",
       "      <td>NaN</td>\n",
       "      <td>NaN</td>\n",
       "      <td>2373270</td>\n",
       "      <td>5</td>\n",
       "      <td>7</td>\n",
       "    </tr>\n",
       "  </tbody>\n",
       "</table>\n",
       "<p>5 rows × 105 columns</p>\n",
       "</div>"
      ],
      "text/plain": [
       "  NU_NOTIFIC TP_NOT ID_AGRAVO CS_SUSPEIT IN_AIDS CS_MENING DT_NOTIFIC SEM_NOT  \\\n",
       "0    1847430      2      A539        NaN     NaN       NaN 2018-03-27  201813   \n",
       "1    0099997      2      A539        NaN     NaN       NaN 2020-09-14  202038   \n",
       "2    0106186      2      A539        NaN     NaN       NaN 2020-06-09  202024   \n",
       "3    2014787      2      A539        NaN     NaN       NaN 2014-08-25  201435   \n",
       "4    0021756      2      A539        NaN     NaN       NaN 2021-08-04  202131   \n",
       "\n",
       "  NU_ANO SG_UF_NOT  ... ID_DIGIT        ID_FAX                      ID_EMAIL  \\\n",
       "0   2018        43  ...        N  (51)32148585  provedoria@santacasa.tche.br   \n",
       "1   2020        23  ...        N           NaN                           NaN   \n",
       "2   2020        23  ...        N           NaN                           NaN   \n",
       "3   2014        23  ...        N    8533452309                           NaN   \n",
       "4   2021        23  ...        N    8533452309                           NaN   \n",
       "\n",
       "  NU_UNID NU_ESFERAS ID_NATU_JU ID_VINCULO ID_UNID_AT NU_TIPO_SA TAMANHO  \n",
       "0      05        NaN        NaN        NaN    2237253          5       7  \n",
       "1      02        NaN        NaN        NaN    2372134          5       7  \n",
       "2      02        NaN        NaN        NaN    2372134          5       7  \n",
       "3      05        NaN        NaN        NaN    2373270          5       7  \n",
       "4      05        NaN        NaN        NaN    2373270          5       7  \n",
       "\n",
       "[5 rows x 105 columns]"
      ]
     },
     "execution_count": 9,
     "metadata": {},
     "output_type": "execute_result"
    }
   ],
   "source": [
    "SIFADQ.raw_data[:5]"
   ]
  },
  {
   "cell_type": "code",
   "execution_count": null,
   "metadata": {},
   "outputs": [],
   "source": []
  },
  {
   "cell_type": "code",
   "execution_count": null,
   "metadata": {},
   "outputs": [],
   "source": []
  },
  {
   "cell_type": "code",
   "execution_count": null,
   "metadata": {},
   "outputs": [],
   "source": []
  },
  {
   "cell_type": "code",
   "execution_count": null,
   "metadata": {},
   "outputs": [],
   "source": []
  },
  {
   "cell_type": "code",
   "execution_count": null,
   "metadata": {},
   "outputs": [],
   "source": []
  },
  {
   "cell_type": "code",
   "execution_count": null,
   "metadata": {},
   "outputs": [],
   "source": []
  },
  {
   "cell_type": "code",
   "execution_count": null,
   "metadata": {},
   "outputs": [],
   "source": []
  },
  {
   "cell_type": "code",
   "execution_count": 6,
   "metadata": {},
   "outputs": [],
   "source": []
  },
  {
   "cell_type": "markdown",
   "metadata": {},
   "source": []
  },
  {
   "cell_type": "code",
   "execution_count": null,
   "metadata": {},
   "outputs": [],
   "source": []
  },
  {
   "cell_type": "code",
   "execution_count": null,
   "metadata": {},
   "outputs": [],
   "source": []
  },
  {
   "cell_type": "code",
   "execution_count": null,
   "metadata": {},
   "outputs": [],
   "source": [
    "\n"
   ]
  },
  {
   "cell_type": "code",
   "execution_count": null,
   "metadata": {},
   "outputs": [],
   "source": []
  },
  {
   "cell_type": "code",
   "execution_count": null,
   "metadata": {},
   "outputs": [],
   "source": []
  },
  {
   "cell_type": "code",
   "execution_count": null,
   "metadata": {},
   "outputs": [],
   "source": []
  },
  {
   "cell_type": "code",
   "execution_count": null,
   "metadata": {},
   "outputs": [],
   "source": []
  }
 ],
 "metadata": {
  "kernelspec": {
   "display_name": "Python 3 (ipykernel)",
   "language": "python",
   "name": "python3"
  },
  "language_info": {
   "codemirror_mode": {
    "name": "ipython",
    "version": 3
   },
   "file_extension": ".py",
   "mimetype": "text/x-python",
   "name": "python",
   "nbconvert_exporter": "python",
   "pygments_lexer": "ipython3",
   "version": "3.9.7"
  },
  "vscode": {
   "interpreter": {
    "hash": "712b11f149c2cac9d10423d55632ee2b13e5d00dc471383620fd71564c628467"
   }
  }
 },
 "nbformat": 4,
 "nbformat_minor": 4
}
